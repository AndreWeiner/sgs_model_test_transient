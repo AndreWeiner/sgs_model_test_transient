{
 "cells": [
  {
   "cell_type": "code",
   "execution_count": 30,
   "metadata": {},
   "outputs": [
    {
     "name": "stdout",
     "output_type": "stream",
     "text": [
      "Installed package versions:\n",
      "--------------------------\n",
      "Ipython: 7.14.0\n",
      "Matplotlib: 3.1.2\n",
      "Numpy: 1.17.4\n",
      "Pandas: 0.25.3\n",
      "Python: 3.8.2\n",
      "PyTorch: 1.5.0+cpu\n",
      "Scikit Learn: 0.23.1\n",
      "Jupyter-lab: 2.1.3\n"
     ]
    }
   ],
   "source": [
    "import numpy\n",
    "import pandas\n",
    "import matplotlib\n",
    "import torch\n",
    "import sklearn\n",
    "import IPython\n",
    "import subprocess\n",
    "from platform import python_version\n",
    "\n",
    "print(\"Installed package versions:\")\n",
    "print(\"-\"*len(\"Installed package version:\"))\n",
    "print(\"Ipython: {}\".format(IPython.__version__))\n",
    "print(\"Matplotlib: {}\".format(matplotlib.__version__))\n",
    "print(\"Numpy: {}\".format(numpy.__version__))\n",
    "print(\"Pandas: {}\".format(pandas.__version__))\n",
    "print(\"Python: {}\".format(python_version()))\n",
    "print(\"PyTorch: {}\".format(torch.__version__))\n",
    "print(\"Scikit Learn: {}\".format(sklearn.__version__))\n",
    "jupyter_version = str(subprocess.run(['jupyter-lab', '--version'], stdout=subprocess.PIPE).stdout)\n",
    "print(\"Jupyter-lab: {}\".format(jupyter_version.replace(\"b'\", \"\").replace(\"\\\\n'\", \"\")))"
   ]
  },
  {
   "cell_type": "code",
   "execution_count": 3,
   "metadata": {},
   "outputs": [
    {
     "name": "stdout",
     "output_type": "stream",
     "text": [
      "Current directory:\n",
      "------------------\n",
      "helper_module.py\t     start.sh\n",
      "show_package_versions.ipynb  visualize_test_data.ipynb\n",
      "\n",
      "Data directory:\n",
      "---------------\n",
      "test\n",
      "\n",
      "Output directory:\n",
      "-----------------\n"
     ]
    }
   ],
   "source": [
    "print(\"Current directory:\")\n",
    "print(\"-\"*len(\"Current directory:\"))\n",
    "!ls\n",
    "print()\n",
    "print(\"Data directory:\")\n",
    "print(\"-\"*len(\"Data directory:\"))\n",
    "!ls ../data\n",
    "print()\n",
    "print(\"Output directory:\")\n",
    "print(\"-\"*len(\"Output directory:\"))\n",
    "!ls ../output"
   ]
  },
  {
   "cell_type": "code",
   "execution_count": null,
   "metadata": {},
   "outputs": [],
   "source": []
  }
 ],
 "metadata": {
  "kernelspec": {
   "display_name": "Python 3",
   "language": "python",
   "name": "python3"
  },
  "language_info": {
   "codemirror_mode": {
    "name": "ipython",
    "version": 3
   },
   "file_extension": ".py",
   "mimetype": "text/x-python",
   "name": "python",
   "nbconvert_exporter": "python",
   "pygments_lexer": "ipython3",
   "version": "3.8.2"
  }
 },
 "nbformat": 4,
 "nbformat_minor": 4
}
