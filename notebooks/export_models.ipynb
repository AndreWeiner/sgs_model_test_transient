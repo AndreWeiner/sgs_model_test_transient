{
 "cells": [
  {
   "cell_type": "markdown",
   "metadata": {},
   "source": [
    "# Export of models to torch script\n",
    "\n",
    "This note is a workaround for the issue described in the notebook *model_creation.ipynb*. To export the models for one of the test cases CB[1-4], set the *case* variable in the last cell, restart the kernel, and execute all cells."
   ]
  },
  {
   "cell_type": "code",
   "execution_count": 1,
   "metadata": {},
   "outputs": [
    {
     "name": "stdout",
     "output_type": "stream",
     "text": [
      "Case names :  ['CB1', 'CB2', 'CB3', 'CB4']\n"
     ]
    }
   ],
   "source": [
    "import pandas as pd\n",
    "import numpy as np\n",
    "import torch as pt\n",
    "from helper_module import SimpleMLP, training_loop\n",
    "from sklearn.preprocessing import MinMaxScaler\n",
    "from copy import deepcopy\n",
    "\n",
    "cases = [\"CB{:1d}\".format(i) for i in range(1, 5)]\n",
    "print(\"Case names : \", cases)\n",
    "\n",
    "output_path = \"../output/\"\n",
    "\n",
    "# make torch results reproducible and use double precision\n",
    "pt.set_default_tensor_type(pt.DoubleTensor)\n",
    "pt.manual_seed(42)\n",
    "np.random.seed(42)"
   ]
  },
  {
   "cell_type": "code",
   "execution_count": 2,
   "metadata": {},
   "outputs": [],
   "source": [
    "log_files = {}\n",
    "for case in cases:\n",
    "    log_path = output_path + case + \"/log_file.pkl\"\n",
    "    log_files[case] = pd.read_pickle(log_path)"
   ]
  },
  {
   "cell_type": "code",
   "execution_count": 3,
   "metadata": {},
   "outputs": [],
   "source": [
    "model_dict_rv = {\n",
    "    \"n_inputs\" : 1,\n",
    "    \"n_outputs\" : 1,\n",
    "    \"n_layers\" : 2,\n",
    "    \"n_neurons\" : 40,\n",
    "    \"activation\" : pt.nn.functional.selu,\n",
    "    \"batch_norm\" : False\n",
    "}\n",
    "\n",
    "scalers_rv = {}\n",
    "scaled_data_rv = {}\n",
    "\n",
    "for case in cases:\n",
    "    scaler = MinMaxScaler()\n",
    "    data = scaler.fit_transform(log_files[case][[\"t\", \"ub_x\"]].values)\n",
    "    scalers_rv[case] = deepcopy(scaler)\n",
    "    scaled_data_rv[case] = deepcopy(data)"
   ]
  },
  {
   "cell_type": "code",
   "execution_count": 4,
   "metadata": {},
   "outputs": [],
   "source": [
    "class RiseVelocityModel(pt.nn.Module):\n",
    "    def __init__(self, model_dict, model_path, scaler_rv):\n",
    "        super(RiseVelocityModel, self).__init__()\n",
    "        self._model = SimpleMLP(**model_dict)\n",
    "        self._model.load_state_dict(pt.load(model_path))\n",
    "        self._min_t = pt.tensor(scaler_rv.data_min_[0], dtype=pt.float64)\n",
    "        self._range_t = pt.tensor(scaler_rv.data_range_[0], dtype=pt.float64)\n",
    "        self._min_rv = pt.tensor(scaler_rv.data_min_[1], dtype=pt.float64)\n",
    "        self._range_rv = pt.tensor(scaler_rv.data_range_[1], dtype=pt.float64)\n",
    "        \n",
    "    def _scale(self, X):\n",
    "        return (X - self._min_t) / self._range_t\n",
    "    \n",
    "    def _inverse_scale(self, y):\n",
    "        return y * self._range_rv + self._min_rv\n",
    "    \n",
    "    def forward(self, X):\n",
    "        X = self._scale(X)\n",
    "        return self._inverse_scale(self._model(X))"
   ]
  },
  {
   "cell_type": "code",
   "execution_count": 5,
   "metadata": {},
   "outputs": [],
   "source": [
    "model_dict_ar = {\n",
    "    \"n_inputs\" : 1,\n",
    "    \"n_outputs\" : 2,\n",
    "    \"n_layers\" : 2,\n",
    "    \"n_neurons\" : 40,\n",
    "    \"activation\" : pt.nn.functional.selu,\n",
    "    \"batch_norm\" : False\n",
    "}\n",
    "\n",
    "scalers_ar = {}\n",
    "scaled_data_ar = {}\n",
    "\n",
    "for case in cases:\n",
    "    scaler = MinMaxScaler()\n",
    "    time = log_files[case].t.values\n",
    "    half_axes = log_files[case][[\"db_x\", \"db_y\"]] / 2.0\n",
    "    data = scaler.fit_transform(np.concatenate((np.expand_dims(time, 1), half_axes), axis=1))\n",
    "    scalers_ar[case] = deepcopy(scaler)\n",
    "    scaled_data_ar[case] = deepcopy(data)"
   ]
  },
  {
   "cell_type": "code",
   "execution_count": 6,
   "metadata": {},
   "outputs": [],
   "source": [
    "class AxesModel(pt.nn.Module):\n",
    "    def __init__(self, model_dict, model_path, scaler_ar):\n",
    "        super(AxesModel, self).__init__()\n",
    "        self._model = SimpleMLP(**model_dict)\n",
    "        self._model.load_state_dict(pt.load(model_path))\n",
    "        self._min_t = pt.tensor(scaler_ar.data_min_[0], dtype=pt.float64)\n",
    "        self._range_t = pt.tensor(scaler_ar.data_range_[0], dtype=pt.float64)\n",
    "        self._min_axes = pt.tensor(scaler_ar.data_min_[1:], dtype=pt.float64)\n",
    "        self._range_axes = pt.tensor(scaler_ar.data_range_[1:], dtype=pt.float64)\n",
    "        \n",
    "    def _scale(self, X):\n",
    "        return (X - self._min_t) / self._range_t\n",
    "    \n",
    "    def _inverse_scale(self, y):\n",
    "        return y * self._range_axes + self._min_axes\n",
    "    \n",
    "    def forward(self, X):\n",
    "        X = self._scale(X)\n",
    "        return self._inverse_scale(self._model(X))"
   ]
  },
  {
   "cell_type": "code",
   "execution_count": 7,
   "metadata": {},
   "outputs": [],
   "source": [
    "interface_data = {}\n",
    "for case in cases:\n",
    "    file_path = output_path + case + \"/interface_data_processed.pkl\"\n",
    "    interface_data[case] = pd.read_pickle(file_path)"
   ]
  },
  {
   "cell_type": "code",
   "execution_count": 8,
   "metadata": {},
   "outputs": [],
   "source": [
    "def ellipsoidal_radius(time, theta, axes_model):\n",
    "    \"\"\"Compute the radius of an ellipse.\n",
    "    \n",
    "    Parameters\n",
    "    ----------\n",
    "    time - array-like: time, unscaled\n",
    "    theta - array-like: polar angle\n",
    "    axes_model - Module: model the predict the half-axes\n",
    "    \n",
    "    Returns\n",
    "    -------\n",
    "    radius - array-like: radius of ellipse; same shape as theta\n",
    "    \"\"\"\n",
    "    axes = axes_model(pt.from_numpy(time).unsqueeze(-1)).detach().numpy()\n",
    "    a = axes[:, 0]\n",
    "    b = axes[:, 1]\n",
    "    return a * b / np.sqrt(np.square(a * np.sin(theta)) + np.square(b * np.cos(theta)))"
   ]
  },
  {
   "cell_type": "code",
   "execution_count": 9,
   "metadata": {},
   "outputs": [],
   "source": [
    "model_dict_rad = {\n",
    "    \"n_inputs\" : 2,\n",
    "    \"n_outputs\" : 1,\n",
    "    \"n_layers\" : 4,\n",
    "    \"n_neurons\" : 40,\n",
    "    \"activation\" : pt.nn.functional.selu,\n",
    "    \"batch_norm\" : False\n",
    "}\n",
    "\n",
    "scalers_tt = {}\n",
    "scalers_rad = {}\n",
    "scaled_data_tt = {}\n",
    "scaled_data_rad = {}\n",
    "\n",
    "for case in cases:\n",
    "    model_path = output_path + \"/half_axes_{:s}.pt\".format(case)\n",
    "    model = AxesModel(model_dict_ar, model_path, scalers_ar[case])\n",
    "    rad_ell = ellipsoidal_radius(interface_data[case].t.values, interface_data[case].theta.values, model)\n",
    "    scaler = MinMaxScaler()\n",
    "    data = scaler.fit_transform(interface_data[case][[\"t\", \"theta\"]].values)\n",
    "    scalers_tt[case] = deepcopy(scaler)\n",
    "    scaled_data_tt[case] = deepcopy(data)\n",
    "    scaler = MinMaxScaler()\n",
    "    rad_proj = interface_data[case].rad.values/rad_ell\n",
    "    data = scaler.fit_transform(rad_proj[:, np.newaxis])\n",
    "    scalers_rad[case] = deepcopy(scaler)\n",
    "    scaled_data_rad[case] = deepcopy(data)"
   ]
  },
  {
   "cell_type": "code",
   "execution_count": 10,
   "metadata": {},
   "outputs": [],
   "source": [
    "class RadiusModel(pt.nn.Module):\n",
    "    def __init__(self, model_dict, model_path, axes_model, scaler_tt, scaler_rad):\n",
    "        super(RadiusModel, self).__init__()\n",
    "        self._model = SimpleMLP(**model_dict)\n",
    "        self._model.load_state_dict(pt.load(model_path))\n",
    "        self._axes_model = axes_model\n",
    "        self._min_tt = pt.tensor(scaler_tt.data_min_, dtype=pt.float64)\n",
    "        self._range_tt = pt.tensor(scaler_tt.data_range_, dtype=pt.float64)\n",
    "        self._min_rad = pt.tensor(scaler_rad.data_min_, dtype=pt.float64)\n",
    "        self._range_rad = pt.tensor(scaler_rad.data_range_, dtype=pt.float64)\n",
    "        \n",
    "    def _scale(self, X):\n",
    "        return (X - self._min_tt) / self._range_tt\n",
    "    \n",
    "    def _inverse_scale(self, y):\n",
    "        return y * self._range_rad + self._min_rad\n",
    "    \n",
    "    def _ellipsoidal_radius(self, X):\n",
    "        axes = self._axes_model(X[:, 0].unsqueeze(-1))\n",
    "        re = axes[:, 0] * axes[:, 1] / pt.sqrt(\n",
    "            pt.square(axes[:, 0] * pt.sin(X[:, 1])) + pt.square(axes[:, 1] * pt.cos(X[:, 1]))\n",
    "        )\n",
    "        return re\n",
    "    \n",
    "    def forward(self, X):\n",
    "        rad_ell = self._ellipsoidal_radius(X).squeeze()\n",
    "        X = self._scale(X)\n",
    "        X = self._inverse_scale(self._model(X)).squeeze()\n",
    "        return X * rad_ell"
   ]
  },
  {
   "cell_type": "code",
   "execution_count": 11,
   "metadata": {},
   "outputs": [],
   "source": [
    "model_dict_tv = {\n",
    "    \"n_inputs\" : 2,\n",
    "    \"n_outputs\" : 1,\n",
    "    \"n_layers\" : 4,\n",
    "    \"n_neurons\" : 40,\n",
    "    \"activation\" : pt.nn.functional.selu,\n",
    "    \"batch_norm\" : False\n",
    "}\n",
    "\n",
    "scalers_tv = {}\n",
    "scaled_data_tv = {}\n",
    "\n",
    "for case in cases:\n",
    "    model_path_rv = output_path + \"/rise_vel_{:s}.pt\".format(case)\n",
    "    model_rv = RiseVelocityModel(model_dict_rv, model_path_rv, scalers_rv[case])\n",
    "    rv_model = model_rv(pt.from_numpy(interface_data[case].t.values).unsqueeze(-1)).detach().squeeze().numpy()\n",
    "    scaler = MinMaxScaler()\n",
    "    vt_trans = interface_data[case].vel_theta.values / rv_model\n",
    "    data = scaler.fit_transform(vt_trans[:, np.newaxis])\n",
    "    scalers_tv[case] = deepcopy(scaler)\n",
    "    scaled_data_tv[case] = deepcopy(data)"
   ]
  },
  {
   "cell_type": "code",
   "execution_count": 12,
   "metadata": {},
   "outputs": [],
   "source": [
    "class TangentialVelocityModel(pt.nn.Module):\n",
    "    def __init__(self, model_dict, model_path, rv_model, scaler_tt, scaler_tv):\n",
    "        super(TangentialVelocityModel, self).__init__()\n",
    "        self._model = SimpleMLP(**model_dict)\n",
    "        self._model.load_state_dict(pt.load(model_path))\n",
    "        self._rv_model = rv_model\n",
    "        self._min_tt = pt.tensor(scaler_tt.data_min_, dtype=pt.float64)\n",
    "        self._range_tt = pt.tensor(scaler_tt.data_range_, dtype=pt.float64)\n",
    "        self._min_tv = pt.tensor(scaler_tv.data_min_, dtype=pt.float64)\n",
    "        self._range_tv = pt.tensor(scaler_tv.data_range_, dtype=pt.float64)\n",
    "        \n",
    "    def _scale(self, X):\n",
    "        return (X - self._min_tt) / self._range_tt\n",
    "    \n",
    "    def _inverse_scale(self, y):\n",
    "        return y * self._range_tv + self._min_tv\n",
    "    \n",
    "    def _rise_velocity(self, X):\n",
    "        return self._rv_model(X[:, 0].unsqueeze(-1))\n",
    "    \n",
    "    def forward(self, X):\n",
    "        rv = self._rise_velocity(X).squeeze()\n",
    "        X = self._scale(X)\n",
    "        X = self._inverse_scale(self._model(X)).squeeze()\n",
    "        return X * rv"
   ]
  },
  {
   "cell_type": "code",
   "execution_count": 14,
   "metadata": {},
   "outputs": [],
   "source": [
    "##################################\n",
    "# Select the case to export here #\n",
    "##################################\n",
    "case = cases[0]\n",
    "##################################\n",
    "model_path = output_path + \"/rise_vel_{:s}.pt\".format(case)\n",
    "model_rv_case_1 = RiseVelocityModel(model_dict_rv, model_path, scalers_rv[case])\n",
    "traced_model_rv_case_1 = pt.jit.trace(model_rv_case_1.eval(), pt.ones((1,1)))\n",
    "traced_model_rv_case_1.save(output_path + \"rise_vel_{:s}.ts\".format(case))\n",
    "model_path = output_path + \"/tv_{:s}.pt\".format(case)\n",
    "model_tv_case_1 = TangentialVelocityModel(model_dict_tv, model_path, model_rv_case_1, scalers_tt[case], scalers_tv[case])\n",
    "traced_model_tv_case_1 = pt.jit.trace(model_tv_case_1.eval(), pt.ones((1,2)))\n",
    "traced_model_tv_case_1.save(output_path + \"tv_{:s}.ts\".format(case))\n",
    "model_path = output_path + \"/half_axes_{:s}.pt\".format(case)\n",
    "model_axes_case_1 = AxesModel(model_dict_ar, model_path, scalers_ar[case])\n",
    "model_path = output_path + \"/rad_{:s}.pt\".format(case)\n",
    "model_rad_case_1 = RadiusModel(model_dict_rad, model_path, model_axes_case_1, scalers_tt[case], scalers_rad[case])\n",
    "traced_model_rad_case_1 = pt.jit.trace(model_rad_case_1.eval(), pt.ones((1,2)))\n",
    "traced_model_rad_case_1.save(output_path + \"rad_{:s}.ts\".format(case))"
   ]
  },
  {
   "cell_type": "code",
   "execution_count": 15,
   "metadata": {},
   "outputs": [],
   "source": []
  }
 ],
 "metadata": {
  "kernelspec": {
   "display_name": "Python 3",
   "language": "python",
   "name": "python3"
  },
  "language_info": {
   "codemirror_mode": {
    "name": "ipython",
    "version": 3
   },
   "file_extension": ".py",
   "mimetype": "text/x-python",
   "name": "python",
   "nbconvert_exporter": "python",
   "pygments_lexer": "ipython3",
   "version": "3.8.2"
  }
 },
 "nbformat": 4,
 "nbformat_minor": 4
}
